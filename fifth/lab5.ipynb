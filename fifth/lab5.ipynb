{
 "cells": [
  {
   "cell_type": "markdown",
   "metadata": {},
   "source": [
    "Лабораторная работа 5 «Метрики качества классификации»\n",
    "Шаймарданов Руслан,группа Р4117\n",
    "Датасет: http://archive.ics.uci.edu/ml/datasets/Statlog+%28Shuttle%29\n",
    "Количество записей: 14500\n",
    "Описание:\n",
    "The shuttle dataset contains 9 attributes all of which are numerical. The first one being time. The last column is the class which has been coded as follows:\n",
    "1   Rad Flow\n",
    "2   Fpv Close\n",
    "3   Fpv Open\n",
    "4   High\n",
    "5   Bypass\n",
    "6   Bpv Close\n",
    "7   Bpv Open"
   ]
  },
  {
   "cell_type": "markdown",
   "metadata": {},
   "source": [
    "Подключение библиотек"
   ]
  },
  {
   "cell_type": "code",
   "execution_count": 1,
   "metadata": {},
   "outputs": [],
   "source": [
    "%matplotlib inline\n",
    "import numpy as np\n",
    "import pandas as pd\n",
    "import pylab as pl\n",
    "from sklearn.model_selection import cross_val_score, train_test_split\n",
    "from sklearn import svm\n",
    "from sklearn.linear_model import LogisticRegression\n",
    "from sklearn.metrics import roc_curve, auc, confusion_matrix, classification_report"
   ]
  },
  {
   "cell_type": "markdown",
   "metadata": {},
   "source": [
    "Подготовка данных"
   ]
  },
  {
   "cell_type": "code",
   "execution_count": 2,
   "metadata": {},
   "outputs": [],
   "source": [
    "dataset = pd.read_csv(\"shuttle.csv\", header=None).values.astype(np.int32, copy=False)\n",
    "x = dataset[:,:-1]\n",
    "y = dataset[:,-1]\n",
    "x_train, x_test, y_train, y_test = train_test_split(x, y, test_size=0.33, random_state=7)\n",
    "svc = svm.SVC(kernel='rbf', probability=True)\n",
    "lr = LogisticRegression()"
   ]
  },
  {
   "cell_type": "markdown",
   "metadata": {},
   "source": [
    "a. Classification Accuracy"
   ]
  },
  {
   "cell_type": "code",
   "execution_count": 3,
   "metadata": {},
   "outputs": [
    {
     "name": "stdout",
     "output_type": "stream",
     "text": [
      "Accuracy:\n",
      "Logistic Regression: 0.9254 (0.0029)\n",
      "Support Vector Machine: 0.9306 (0.0020)\n"
     ]
    }
   ],
   "source": [
    "scoring='accuracy'\n",
    "print(\"Accuracy:\")\n",
    "results = cross_val_score(lr, x, y, scoring=scoring)\n",
    "print(\"Logistic Regression: %.4f (%.4f)\" % (results.mean(), results.std()))\n",
    "results = cross_val_score(svc, x, y, scoring=scoring)\n",
    "print(\"Support Vector Machine: %.4f (%.4f)\" % (results.mean(), results.std()))"
   ]
  },
  {
   "cell_type": "markdown",
   "metadata": {},
   "source": [
    "b. Logarithmic Loss"
   ]
  },
  {
   "cell_type": "code",
   "execution_count": 4,
   "metadata": {},
   "outputs": [
    {
     "name": "stdout",
     "output_type": "stream",
     "text": [
      "Logloss:\n",
      "Logistic Regression: -0.2622 (0.0135)\n",
      "Support Vector Machine: -0.0530 (0.0035)\n"
     ]
    }
   ],
   "source": [
    "scoring='neg_log_loss'\n",
    "print(\"Logloss:\")\n",
    "results = cross_val_score(lr, x, y, scoring=scoring)\n",
    "print(\"Logistic Regression: %.4f (%.4f)\" % (results.mean(), results.std()))\n",
    "results = cross_val_score(svc, x, y, scoring=scoring)\n",
    "print(\"Support Vector Machine: %.4f (%.4f)\" % (results.mean(), results.std()))"
   ]
  },
  {
   "cell_type": "markdown",
   "metadata": {},
   "source": [
    "c. Area Under ROC Curve"
   ]
  },
  {
   "cell_type": "code",
   "execution_count": 5,
   "metadata": {
    "scrolled": true
   },
   "outputs": [
    {
     "name": "stdout",
     "output_type": "stream",
     "text": [
      "AUC:\n",
      "Logistic Regression: 0.9719 (0.0276)\n",
      "Support Vector Machine: 0.9999 (0.0000)\n"
     ]
    }
   ],
   "source": [
    "scoring='roc_auc'\n",
    "print(\"AUC:\")\n",
    "yb = list(map(lambda x: int(x==1), y))\n",
    "results = cross_val_score(lr, x, yb, scoring=scoring)\n",
    "print(\"Logistic Regression: %.4f (%.4f)\" % (results.mean(), results.std()))\n",
    "results = cross_val_score(svc, x, yb, scoring=scoring)\n",
    "print(\"Support Vector Machine: %.4f (%.4f)\" % (results.mean(), results.std()))"
   ]
  },
  {
   "cell_type": "markdown",
   "metadata": {},
   "source": [
    "d. Confusion Matrix"
   ]
  },
  {
   "cell_type": "code",
   "execution_count": 6,
   "metadata": {},
   "outputs": [
    {
     "name": "stdout",
     "output_type": "stream",
     "text": [
      "Confusion Matrix:\n",
      "Logistic Regression:\n",
      " [[3754    0    0   10    0    0    1]\n",
      " [   2    0    0    2    0    0    0]\n",
      " [   3    0    0   12    0    1    0]\n",
      " [ 310    0    0  412    0    0    0]\n",
      " [   0    0    0    0  275    0    0]\n",
      " [   2    0    0    1    0    0    0]\n",
      " [   0    0    0    0    0    0    0]]\n",
      "Support Vector Machine:\n",
      " [[3765    0    0    0    0    0]\n",
      " [   3    1    0    0    0    0]\n",
      " [  15    0    1    0    0    0]\n",
      " [ 178    0    0  544    0    0]\n",
      " [ 121    0    0    0  154    0]\n",
      " [   3    0    0    0    0    0]]\n"
     ]
    }
   ],
   "source": [
    "print(\"Confusion Matrix:\")\n",
    "lr.fit(x_train, y_train)\n",
    "predicted = lr.predict(x_test)\n",
    "matrix = confusion_matrix(y_test, predicted)\n",
    "print(\"Logistic Regression:\\n\", matrix)\n",
    "svc.fit(x_train, y_train)\n",
    "predicted = svc.predict(x_test)\n",
    "matrix = confusion_matrix(y_test, predicted)\n",
    "print(\"Support Vector Machine:\\n\", matrix)"
   ]
  },
  {
   "cell_type": "markdown",
   "metadata": {},
   "source": [
    "e. Classification Report"
   ]
  },
  {
   "cell_type": "markdown",
   "metadata": {},
   "source": [
    "Вывод:\n",
    "В ходе лабораторной работы были рассмотрены 5 различных метрик качества классификации.\n",
    "\n",
    "Метод оценки с ROC-кривой является оценкой бинарного классификатора, поэтому для сравнения данные были приведены к двум классам: первый, составлющий 80% от всех, и все остальные.\n",
    "\n",
    "Для выполнения работы были выбраны методы: Support Vector Machine (как последний из изученных) и Logistic Regression (для знакомства с чем-то новым). Метод опорных векторов показал чуть лучшие результаты."
   ]
  }
 ],
 "metadata": {
  "kernelspec": {
   "display_name": "Python 3",
   "language": "python",
   "name": "python3"
  },
  "language_info": {
   "codemirror_mode": {
    "name": "ipython",
    "version": 3
   },
   "file_extension": ".py",
   "mimetype": "text/x-python",
   "name": "python",
   "nbconvert_exporter": "python",
   "pygments_lexer": "ipython3",
   "version": "3.6.3"
  }
 },
 "nbformat": 4,
 "nbformat_minor": 1
}
